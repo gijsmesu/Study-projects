{
 "cells": [
  {
   "cell_type": "code",
   "execution_count": 1,
   "id": "94606318",
   "metadata": {},
   "outputs": [],
   "source": [
    "import numpy as np\n",
    "from sklearn.model_selection import train_test_split\n",
    "from sklearn.preprocessing import StandardScaler\n",
    "from sklearn.impute import SimpleImputer\n",
    "from imblearn.over_sampling import SMOTE\n",
    "from sklearn.tree import DecisionTreeClassifier\n",
    "from sklearn.model_selection import GridSearchCV\n",
    "from sklearn.model_selection import RandomizedSearchCV\n",
    "from sklearn.neural_network import MLPClassifier\n",
    "from sklearn.metrics import classification_report, confusion_matrix"
   ]
  },
  {
   "cell_type": "code",
   "execution_count": 2,
   "id": "26c847a1",
   "metadata": {},
   "outputs": [],
   "source": [
    "data = np.load('data.npz')\n",
    "X = data['features']\n",
    "y = data['labels']"
   ]
  },
  {
   "cell_type": "code",
   "execution_count": 3,
   "id": "6955111a",
   "metadata": {},
   "outputs": [],
   "source": [
    "#Before using GridSearch and CrossValidation split the data into trainval and test, creating a test set to \n",
    "#calculate the final accuracy (or other test according to imbalanced data) on\n",
    "X_trainval, X_test, y_trainval, y_test = train_test_split(X, y, random_state = 0)"
   ]
  },
  {
   "cell_type": "code",
   "execution_count": 4,
   "id": "d420155a",
   "metadata": {},
   "outputs": [],
   "source": [
    "#Use a simple imputer to get rid of missing values\n",
    "imp = SimpleImputer()\n",
    "X_trainval = imp.fit_transform(X_trainval)\n",
    "X_test = imp.transform(X_test)"
   ]
  },
  {
   "cell_type": "code",
   "execution_count": 5,
   "id": "6dc60633",
   "metadata": {},
   "outputs": [
    {
     "name": "stdout",
     "output_type": "stream",
     "text": [
      "Previous number of samples: (4233, 12)\n",
      "New number of samples: (7544, 12)\n",
      "(array([0, 1, 2, 3], dtype=int32), array([1886, 1886, 1886, 1886]))\n"
     ]
    }
   ],
   "source": [
    "#Work with the imbalance of the data\n",
    "sm = SMOTE()\n",
    "X_trainval_sm, y_trainval_sm = sm.fit_resample(X_trainval, y_trainval)\n",
    "print(\"Previous number of samples:\", X_trainval.shape)\n",
    "print(\"New number of samples:\", X_trainval_sm.shape)\n",
    "print(np.unique(y_trainval_sm, return_counts=True))"
   ]
  },
  {
   "cell_type": "code",
   "execution_count": 6,
   "id": "1939514f",
   "metadata": {},
   "outputs": [
    {
     "name": "stdout",
     "output_type": "stream",
     "text": [
      "Best parameters: {'max_depth': 10, 'min_samples_split': 2}\n",
      "Best cross-validation score: 0.79\n"
     ]
    }
   ],
   "source": [
    "#DicisionTree\n",
    "param_grid_DT = {\n",
    "    'max_depth' : [2, 6, 10, 14, 18, 22],\n",
    "    'min_samples_split' : [2, 4, 6, 8, 10]\n",
    "    }\n",
    "    \n",
    "grid_search_DT = GridSearchCV(DecisionTreeClassifier(), param_grid_DT, cv=5)\n",
    "\n",
    "grid_search_DT.fit(X_trainval_sm, y_trainval_sm)\n",
    "\n",
    "print(\"Best parameters: {}\".format(grid_search_DT.best_params_))\n",
    "print(\"Best cross-validation score: {:.2f}\".format(grid_search_DT.best_score_))"
   ]
  },
  {
   "cell_type": "code",
   "execution_count": 7,
   "id": "0f894fea",
   "metadata": {},
   "outputs": [
    {
     "name": "stdout",
     "output_type": "stream",
     "text": [
      "0.6536827195467422\n"
     ]
    }
   ],
   "source": [
    "final_DT = DecisionTreeClassifier(max_depth = 14, min_samples_split = 2)\n",
    "final_DT.fit(X_trainval_sm, y_trainval_sm)\n",
    "print(final_DT.score(X_test, y_test))"
   ]
  },
  {
   "cell_type": "code",
   "execution_count": 8,
   "id": "f31f1ce4",
   "metadata": {},
   "outputs": [
    {
     "name": "stdout",
     "output_type": "stream",
     "text": [
      "              precision    recall  f1-score   support\n",
      "\n",
      "           0       0.63      0.66      0.64       346\n",
      "           1       0.71      0.91      0.80        77\n",
      "           2       0.62      0.68      0.65       351\n",
      "           3       0.70      0.62      0.66       638\n",
      "\n",
      "    accuracy                           0.66      1412\n",
      "   macro avg       0.67      0.72      0.69      1412\n",
      "weighted avg       0.66      0.66      0.66      1412\n",
      "\n",
      "[[227  12  30  77]\n",
      " [  2  70   0   5]\n",
      " [ 27   0 240  84]\n",
      " [107  16 119 396]]\n"
     ]
    }
   ],
   "source": [
    "y_pred_DT = final_DT.fit(X_trainval_sm, y_trainval_sm).predict(X_test)\n",
    "print(classification_report(y_test, y_pred_DT))\n",
    "print(confusion_matrix(y_test, y_pred_DT))"
   ]
  },
  {
   "cell_type": "code",
   "execution_count": 9,
   "id": "0b2a8ff5",
   "metadata": {},
   "outputs": [
    {
     "name": "stdout",
     "output_type": "stream",
     "text": [
      "Best parameters: {'hidden_layer_sizes': (12, 12), 'alpha': 0.05, 'activation': 'tanh'}\n",
      "Best cross-validation score: 0.82\n"
     ]
    }
   ],
   "source": [
    "#MLPClassifier\n",
    "scaler = StandardScaler() \n",
    "scaler.fit(X_trainval_sm)\n",
    "\n",
    "X_trainval_MLP = scaler.transform(X_trainval_sm)\n",
    "X_test = scaler.transform(X_test)\n",
    "\n",
    "param_grid_MLP = {\n",
    "    'hidden_layer_sizes': [(12,), (12,12)],\n",
    "    'activation': ['tanh', 'relu'],\n",
    "    'alpha': [0.0001, 0.05]\n",
    "}\n",
    "\n",
    "random_search_MLP = RandomizedSearchCV(MLPClassifier(max_iter = 10000), param_grid_MLP, n_iter = 5, cv=5, random_state = 0)\n",
    "\n",
    "random_search_MLP.fit(X_trainval_MLP, y_trainval_sm)\n",
    "\n",
    "print(\"Best parameters: {}\".format(random_search_MLP.best_params_))\n",
    "print(\"Best cross-validation score: {:.2f}\".format(random_search_MLP.best_score_))"
   ]
  },
  {
   "cell_type": "code",
   "execution_count": 12,
   "id": "4351ac68",
   "metadata": {},
   "outputs": [
    {
     "name": "stdout",
     "output_type": "stream",
     "text": [
      "0.6997167138810199\n"
     ]
    }
   ],
   "source": [
    "final_MLP = MLPClassifier(max_iter = 10000, \n",
    "                          hidden_layer_sizes = (12, 12), \n",
    "                          alpha = 0.05, \n",
    "                          activation = 'tanh')\n",
    "final_MLP.fit(X_trainval_MLP, y_trainval_sm)\n",
    "print(final_MLP.score(X_test, y_test))"
   ]
  },
  {
   "cell_type": "code",
   "execution_count": 13,
   "id": "96a7cf61",
   "metadata": {},
   "outputs": [
    {
     "name": "stdout",
     "output_type": "stream",
     "text": [
      "              precision    recall  f1-score   support\n",
      "\n",
      "           0       0.66      0.75      0.70       346\n",
      "           1       0.73      0.92      0.82        77\n",
      "           2       0.71      0.76      0.73       351\n",
      "           3       0.78      0.66      0.71       638\n",
      "\n",
      "    accuracy                           0.72      1412\n",
      "   macro avg       0.72      0.77      0.74      1412\n",
      "weighted avg       0.73      0.72      0.72      1412\n",
      "\n",
      "[[260  10  14  62]\n",
      " [  1  71   0   5]\n",
      " [ 30   0 267  54]\n",
      " [105  16  95 422]]\n"
     ]
    }
   ],
   "source": [
    "y_pred_MLP = final_MLP.fit(X_trainval_MLP, y_trainval_sm).predict(X_test)\n",
    "print(classification_report(y_test, y_pred_MLP))\n",
    "\n",
    "print(confusion_matrix(y_test, y_pred_MLP))"
   ]
  }
 ],
 "metadata": {
  "kernelspec": {
   "display_name": "Python 3 (ipykernel)",
   "language": "python",
   "name": "python3"
  },
  "language_info": {
   "codemirror_mode": {
    "name": "ipython",
    "version": 3
   },
   "file_extension": ".py",
   "mimetype": "text/x-python",
   "name": "python",
   "nbconvert_exporter": "python",
   "pygments_lexer": "ipython3",
   "version": "3.9.13"
  }
 },
 "nbformat": 4,
 "nbformat_minor": 5
}
