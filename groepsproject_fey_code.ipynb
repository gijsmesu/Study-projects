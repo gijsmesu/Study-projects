{
 "cells": [
  {
   "cell_type": "code",
   "execution_count": 1,
   "id": "f95405e3",
   "metadata": {},
   "outputs": [
    {
     "data": {
      "text/plain": [
       "'\\nHieronder wordt eerst het csv file dat we gecreeërd hebben vanuit de comments onder de posts van feyenoord \\nwedstrijden in de eredivisie hebben geopend als een dictionary. Er zijn twee verschillende csv files gemaakt:\\neentje voor de gewonnen wedstrijden en eentje voor de niet gewonnen wedstrijden. De csv module wordt geïmporteerd\\nzodat de csv file gemakkelijk en snel geopend kan worden. Ook wordt vast van de pattern.nl module de sentiment \\nfunctie geïmporteerd om later een nederlands talige sentiment analyse uit te kunnne voeren.\\n'"
      ]
     },
     "execution_count": 1,
     "metadata": {},
     "output_type": "execute_result"
    }
   ],
   "source": [
    "'''\n",
    "Hieronder wordt eerst het csv file dat we gecreeërd hebben vanuit de comments onder de posts van feyenoord \n",
    "wedstrijden in de eredivisie hebben geopend als een dictionary. Er zijn twee verschillende csv files gemaakt:\n",
    "eentje voor de gewonnen wedstrijden en eentje voor de niet gewonnen wedstrijden. De csv module wordt geïmporteerd\n",
    "zodat de csv file gemakkelijk en snel geopend kan worden. Ook wordt vast van de pattern.nl module de sentiment \n",
    "functie geïmporteerd om later een nederlands talige sentiment analyse uit te kunnne voeren.\n",
    "'''"
   ]
  },
  {
   "cell_type": "code",
   "execution_count": 2,
   "id": "fa3dce6c",
   "metadata": {},
   "outputs": [
    {
     "name": "stdout",
     "output_type": "stream",
     "text": [
      "Requirement already satisfied: pattern in /Users/gijs/opt/anaconda3/lib/python3.8/site-packages (3.6)\r\n"
     ]
    }
   ],
   "source": [
    "# Draai deze cel één keer, als je pattern nog niet hebt geïnstalleerd:\n",
    "!pip install pattern --no-deps"
   ]
  },
  {
   "cell_type": "code",
   "execution_count": 3,
   "id": "33c03da9",
   "metadata": {},
   "outputs": [],
   "source": [
    "import csv                                             #csv module importeren om data in te lezen (Gijs)\n",
    "filename = \"../Data/comments_niet_gewonnen_strip.csv\"\n",
    "with open(filename, \"r\") as csvfile:                   #met de with function het csv file openen van de niet gewonnen wedstrijden (Gijs)\n",
    "    reader = csv.DictReader(csvfile, delimiter=';')    #DictReader functie maakt telkens een dict van elke rij\n",
    "    csv_data_niet_gewonnen = list(reader)              #De resultaten van de DictReader aan een lijst toevoegen (Gijs)"
   ]
  },
  {
   "cell_type": "code",
   "execution_count": 4,
   "id": "6b7fd908",
   "metadata": {},
   "outputs": [],
   "source": [
    "filename = \"../Data/comments_gewonnen_strip.csv\"\n",
    "with open(filename, \"r\") as csvfile:                   #met de with function het csv file openen van de gewonnen wedstrijden (Gijs)\n",
    "    reader = csv.DictReader(csvfile, delimiter=';')    #DictReader functie maakt telkens een dict van elke rij\n",
    "    csv_data_gewonnen = list(reader)                   #De resultaten van de DictReader aan een lijst toevoegen (Gijs)"
   ]
  },
  {
   "cell_type": "code",
   "execution_count": 5,
   "id": "0a2799ee",
   "metadata": {},
   "outputs": [],
   "source": [
    "from pattern.nl import sentiment as sentiment_nl       #sentiment module importeren om de 'negativiteit (polariteit)' te kunnen meten van de comments (Gijs)"
   ]
  },
  {
   "cell_type": "code",
   "execution_count": 6,
   "id": "a52105fb",
   "metadata": {},
   "outputs": [
    {
     "name": "stdout",
     "output_type": "stream",
     "text": [
      "[{'Comment_Number': '1', 'Name ': 'pp.daan', 'Date': '16-10-21 16:29:30', 'Likes': '5', 'Comment': '1 ding Schandalig!'}, {'Comment_Number': '2', 'Name ': 'grizzlystuff9', 'Date': '16-10-21 16:29:35', 'Likes': '1', 'Comment': '\\U0001f972'}, {'Comment_Number': '3', 'Name ': 'ivy_0181_', 'Date': '16-10-21 16:29:36', 'Likes': '7', 'Comment': 'Wtf man'}, {'Comment_Number': '4', 'Name ': '22sauvage', 'Date': '16-10-21 16:29:37', 'Likes': '50', 'Comment': 'Nooit meer dessers aub.'}, {'Comment_Number': '5', 'Name ': 'kayvanheess_', 'Date': '16-10-21 16:29:37', 'Likes': '71', 'Comment': 'Weg met kokcu en dessers'}]\n"
     ]
    }
   ],
   "source": [
    "print(csv_data_niet_gewonnen[:5])"
   ]
  },
  {
   "cell_type": "code",
   "execution_count": 7,
   "id": "bb26216d",
   "metadata": {},
   "outputs": [
    {
     "name": "stdout",
     "output_type": "stream",
     "text": [
      "[{'\\ufeffComment_Number': '1', 'Name ': 'gavinlooman', 'Date': '04-11-21 21:59:54', 'Likes': '205', 'Comment': 'Ik weet niet wat ik heb gezien maar het maakt me niks uit, 3 punten💪🤩'}, {'\\ufeffComment_Number': '2', 'Name ': 'reinensink_', 'Date': '04-11-21 21:59:55', 'Likes': '125', 'Comment': 'In Slot we trust 💪🏻'}, {'\\ufeffComment_Number': '3', 'Name ': '0181.joey_', 'Date': '04-11-21 21:59:58', 'Likes': '0', 'Comment': '😍😍'}, {'\\ufeffComment_Number': '4', 'Name ': 'alexinailyana', 'Date': '04-11-21 21:59:59', 'Likes': '101', 'Comment': 'enchanting😸🌗🌗'}, {'\\ufeffComment_Number': '5', 'Name ': 'diealdsieger', 'Date': '04-11-21 22:00:01', 'Likes': '3', 'Comment': '🔥🔥'}]\n"
     ]
    }
   ],
   "source": [
    "print(csv_data_gewonnen[:5])"
   ]
  },
  {
   "cell_type": "code",
   "execution_count": 8,
   "id": "100bc524",
   "metadata": {},
   "outputs": [
    {
     "data": {
      "text/plain": [
       "\"\\nSentiment analyse uitvoeren voor alle comments die zijn geplaatst. \\nIn beide csv files zijn 300 comments. Aan de hand van de sentiment analyse een variabele maken die telt hoeveel \\nnegatieve comments er in die csv file aanwezig waren. Doe dit oor beide csv files, daarna kunnen we vergelijken\\ntussen de twee csv files en ondervinden of er in verhouding meer negatieve comments waren onder de posts van de niet\\ngewonnen wedstrijden. \\nBedenken wat we met alle emoji's willen. De sentiment module pakt deze niet, misschien moeten we dit handmatig doen \\nof bestaat er wel een module voor. De comments met deze emoji's kunnen we dan ook beoordelen en toevoegen aan de count \\nvariabele.\\n\""
      ]
     },
     "execution_count": 8,
     "metadata": {},
     "output_type": "execute_result"
    }
   ],
   "source": [
    "\"\"\"\n",
    "Sentiment analyse uitvoeren voor alle comments die zijn geplaatst. \n",
    "In beide csv files zijn 300 comments. Aan de hand van de sentiment analyse een variabele maken die telt hoeveel \n",
    "negatieve comments er in die csv file aanwezig waren. Doe dit oor beide csv files, daarna kunnen we vergelijken\n",
    "tussen de twee csv files en ondervinden of er in verhouding meer negatieve comments waren onder de posts van de niet\n",
    "gewonnen wedstrijden. \n",
    "Bedenken wat we met alle emoji's willen. De sentiment module pakt deze niet, misschien moeten we dit handmatig doen \n",
    "of bestaat er wel een module voor. De comments met deze emoji's kunnen we dan ook beoordelen en toevoegen aan de count \n",
    "variabele.\n",
    "\"\"\""
   ]
  },
  {
   "cell_type": "code",
   "execution_count": 9,
   "id": "f49cdf18",
   "metadata": {},
   "outputs": [
    {
     "name": "stdout",
     "output_type": "stream",
     "text": [
      "1 ding Schandalig!\n",
      "Schaam je dood!!!!\n",
      "😔\n",
      "Wat is die Dessers slecht zeg. Niet normaal\n",
      "Ongekend slecht\n",
      "Ik Begin mijn vertrouwen in feyenoord langzamerhand kwijt te raken\n",
      "Dessers dessers dessers … wat ben je allemaal aan het doen man. 😮\n",
      "Zelfs vrouwen voetbal is intressanter dan dit schandalig!\n",
      "Tegen NEC verloren we al bijna en nu krijg je echt de deksel op de neus tegen een degradatiekandidaat. Met dit voetbal ga je geen top 3 eindigen\n",
      "Schaam je kapot , tegen RKC\n",
      "Zwaar onverdiend.... heel vies spel van rkc\n",
      "Cookk cookkk 😢\n",
      "Maak die kansen nou eens af😩\n",
      "Schaam je kapot\n",
      "😢\n",
      "Dramatisch\n",
      "😡😡\n",
      "Weer terug bij stap 1, zat er al op te wachten dat dit soort zooi ging gebeuren dit seizoen\n",
      "😬🙄😐\n",
      "Verloren van een hoop schilders en schoenenmakers als bijbaan voetballer\n",
      "Je zal nooit echt meedoen als je dit soort wedstrijden speelt\n",
      "Schaam je dood\n",
      "Goeie wissels ook 😒\n",
      "Winnen van psv en THUIS gelijk spelen tegen RKC😢 typerend weer 🤓 hoop dat arne voorlopig een paar spelers ff niet meer opstel! Wat een aanfluiting\n",
      "Vitesse is fk zielig\n",
      "Slecht pot jammer volgende x beter boys 💪\n",
      "Ik snap er niks meer van wat Vitesse liet zien was zeker geen voetbal! Krankzinnig!\n",
      "Tering domme blunders van Senesi en Geertruida die onder de bal duikt man man. Drama\n",
      "In t spel trappen van vitesse! Niet wisselen op t laatst! Wat een wanprestatie\n",
      "Heel zielig clubje dat Vitesse\n",
      "Wat is die jahanbaksh slecht\n",
      "Straftraining!!! Het moet is een keertje klaar zijn dat als we kunnen inlopen, het vertikken om de 3 punten binnen te slepen. Want dat is 9 van de 10 keer het geval 😡😡\n",
      "Schande voor het Nederlandse voetbal hoe Vitesse de boel belachelijk vertraagde\n",
      "die buitink blijft 3 min in het veld staan en die gozer fluit meteen af\n",
      "Idd😢\n",
      "Wat een schande is dat Vitesse\n",
      "Domme persoonlijke fouten maar wat een ongelooflijk eng anti voetbal dat Vitesse zeg 🤮\n",
      "Eigen tering schuld… malacia van mij part ff paar wedstrijden 🛋 dat laconieke gedoeAlireza ook 🛋Altijd als Feyenoord MOET aanhaken verneuken ze het weer🙃\n",
      "Jammer had nog wel 3 minuten door mogen spelen\n",
      "Hoe de factuur is er na die 10 min maar 2 min bij gekomen\n",
      "Weer ouderwets Feyenoord gezien !\n",
      "wat een antivoetbal, feyenoord speelde slecht maar god nog nooit heb ik een ploeg zo veel zien tijdrekken. wat een antivoetbal dat vitesse\n",
      "Vitesse trieste club\n",
      "Slecht gespeeld maar wat een grafploeg is dat vitesse.  En een scheids die geen controle heeft een geen beslissingen durft te nemen\n",
      "Enorm jammer, maar tegen dit soort ploegen is niet te voetballen. Vitesse uit is sowieso lastig, dus dit is echt niet een schande.\n",
      "Wat een trieste club dat vitesse\n",
      "Vitesse meest zielige club van de Eredivisie, ongelooflijk zeg 🤡\n",
      "Vitesse smerige club\n",
      "Wat is die vent van de rode kaart een naar mannetje, gadverdamme zeg\n",
      "Waardeloze instelling vandaag, scheids ook compleet triest, heeft de spelers en wedstrijd niet onder controle en moet eigenlijk gewoon 20 minuten minimaal blessuretijd geven.. slot vergeet ook telkens dat hij 5 x mag wisselen.. sinisterra en jahanbakhsh waren pure stront en blijven gewoon staan\n",
      "Since wnr kun je winnen met gwn alleen op de grond liggen en een scheids die denkt van laat k maar gwn fluiten\n",
      "Geen ijzersterke wedstrijd maar totaal 65 minuten gevoetbald deze wedstrijd\n",
      "Was niet om over naar huis te schrijven! Maarja zware week achter de rug. Toch had je aan het langste eind motten trekken! Schandalige vertoning van Vitesse ook trouwens laatste fase….\n",
      "2e helft beter boys! Er zijn pas 49 min gespeeld! Alles is nog mogelijk.\n",
      "Triest team dat Vitesse\n",
      "Tyfus Vitesse, hebben 49 min over heel de wedstrijd gezien voor elkaar gekregen om het spel neerleggen… tyfus honden.\n",
      "😮\n",
      "Ik snap dessers wel met doorspelen en de scheids😮😮\n",
      "😢\n",
      "Jammer, maar die Higler wat een sukkel\n",
      "Wat was het slecht\n",
      "😢\n",
      "😔\n",
      "Dit is een combinatie van dunne selectie en ietwat vermoeidheid denk ik\n",
      "😢👏👏👏👏\n",
      "Ali reza 😔\n",
      "😢 En nu weer doorrrrrr!\n",
      "Schandalig dit\n",
      "Op naar meer nederlagen! 💩💩💩\n",
      "😢😢😢😢\n",
      "Als we ff redelijk kijken weten we allemaal dat ze echt moker slecht speelden maarja\n",
      "Senesi wordt toch erg gemist\n",
      "Feijenoord kan niet beter.Hetzelfde als vorig seizoen is het.😢 Kut.\n",
      "😢 was gewoon niet goed. En dan Higler ook nog als scheids🤦🏻 Maar, eerlijk is eerlijk: Utrecht was gewoon beter. Niks aan te doen. Snel vergeten deze wedstrijd en op 12 september weer dr’an!💪🏼\n",
      "Jammer jongens, hoofd omhoog en op naar de volgende match👏👏\n",
      "😢😢😢\n",
      "Vergeten en door!Dood moe van donderdag en het reizen.Kop omhoog en door knallen\n",
      "77\n"
     ]
    }
   ],
   "source": [
    "csv_data_niet_gewonnen_negatief = []                              #Lege lijst maken om hier alle comments in toe te voegen die negatief geladen zijn\n",
    "for item in csv_data_niet_gewonnen:                               #Voor elke dictionary in de csv data \n",
    "    polarity, subjectivity = sentiment_nl(item['Comment'])        #De polariteit van de comments checken\n",
    "    if polarity < 0:                                              #Als de polariteit van de comment negatief is\n",
    "        csv_data_niet_gewonnen_negatief.append(item['Comment'])   #Voeg je die comment toe aan de daarvoor aangemaakte lijst\n",
    "    else:                                                         #Als de polariteit niet negatief is\n",
    "        continue                                                  #Door naar de volgende comment\n",
    "\n",
    "for comment in csv_data_niet_gewonnen_negatief:                   #Elke comment apart printen voor het overzicht\n",
    "    print(comment)\n",
    "hvl_neg_com_niet_gewonnen = len(csv_data_niet_gewonnen_negatief)  #De hoeveelheid negatieve comments tellen aan de hand van de len() functie (en toevoegen aan een variabele) om deze later te kunnen vergelijken\n",
    "print(hvl_neg_com_niet_gewonnen)"
   ]
  },
  {
   "cell_type": "code",
   "execution_count": 10,
   "id": "c7955dc9",
   "metadata": {},
   "outputs": [
    {
     "name": "stdout",
     "output_type": "stream",
     "text": [
      "OP NAAR MEER!🔥\n",
      "Rare wedstrijd, maar 3 punten\n",
      "weer 10 jaar ouder, maar die 3 punten gaan weer lekker mee naar rdam 🔥🔥\n",
      "😢😢😢\n",
      "Wijnval had wel rood mogen hebben\n",
      "@mathijsgoris dood lijk hou je smoel\n",
      "Jaja allemaal hypocriete fans nu maar eerst dessers helemaal afbreken🤡🤡🤡🤡\n",
      "Zielige kk club\n",
      "@matthijs_bak als til zijn contract ooit verloopt en hij dan zegt van ik vertrek naar feyenoord kunnen we hem binnen halen denk als til mag kiezen dat die feyenoord leuker vind\n",
      "@jochemdej heb de documontaire gezien op disney plus feyenoord zit in zwaar weer financieel maar dat wisten we eigenlijk al jaren\n",
      "Waanzinnig\n",
      "Feyenoord supporter zijn is aardig slecht voor je hart af en toe 😫❤️🤍\n",
      "Nuuul 😒\n",
      "Verdiend👏👏 en die Blom mag wel naar de oogarts...manman\n",
      "Niet gelijk denken lands kampioen he\n",
      "@simonhoogenraad teleurstellend dit\n",
      "Veel te krap steeds kom op nou\n",
      "@renske_8888 😡😡\n",
      "@isis.vdk hartpijn, en in de laatste minuut nog ook😓💔\n",
      "19\n"
     ]
    }
   ],
   "source": [
    "csv_data_gewonnen_negatief = []                              #Lege lijst maken om hier alle comments in toe te voegen die negatief geladen zijn\n",
    "for item in csv_data_gewonnen:                               #Voor elke dictionary in de csv data \n",
    "    polarity, subjectivity = sentiment_nl(item['Comment'])   #De polariteit van de comments checken\n",
    "    if polarity < 0:                                         #Als de polariteit van de comment negatief is\n",
    "        csv_data_gewonnen_negatief.append(item['Comment'])   #Voeg je die comment toe aan de daarvoor aangemaakte lijst\n",
    "    else:                                                    #Als de polariteit niet negatief is\n",
    "        continue                                             #Door naar de volgende comment\n",
    "\n",
    "for comment in csv_data_gewonnen_negatief:                   #Elke comment apart printen voor het overzicht\n",
    "    print(comment)\n",
    "hvl_neg_com_gewonnen = len(csv_data_gewonnen_negatief)       #De hoeveelheid negatieve comments tellen aan de hand van de len() functie (en toevoegen aan een variabele) om deze later te kunnen vergelijken\n",
    "print(hvl_neg_com_gewonnen)"
   ]
  },
  {
   "cell_type": "code",
   "execution_count": 11,
   "id": "04b0a2be",
   "metadata": {},
   "outputs": [
    {
     "data": {
      "text/plain": [
       "\"\\nHieronder wordt eerst de emoji module geïmporteerd zodat we analyses uit kunnen voeren met emoji's. Van github is \\neen lijst gebruikt die de valence aangeeft van de meest gebruikte emoji's. Aangezien er in de comments een aantal \\nemoji's op een negatieve manier gebruikt werden en deze niet als negatief waren geklasificeerd in de lijst, is de \\nlijst iets aangepast zodat die specifieke emoji's wel als negatief werden gezien door de code. Van de lijst is een \\ncsv file gemaakt zodat de valence van de emoji's gecheckt kan worden wanneer deze voorkomt in een code. Later worden\\nook de emoji en regex modules geïmporteerd om de get_emoji functie te definiëren en te laten werken. \\n\""
      ]
     },
     "execution_count": 11,
     "metadata": {},
     "output_type": "execute_result"
    }
   ],
   "source": [
    "'''\n",
    "Hieronder wordt eerst de emoji module geïmporteerd zodat we analyses uit kunnen voeren met emoji's. Van github is \n",
    "een lijst gebruikt die de valence aangeeft van de meest gebruikte emoji's. Aangezien er in de comments een aantal \n",
    "emoji's op een negatieve manier gebruikt werden en deze niet als negatief waren geklasificeerd in de lijst, is de \n",
    "lijst iets aangepast zodat die specifieke emoji's wel als negatief werden gezien door de code. Van de lijst is een \n",
    "csv file gemaakt zodat de valence van de emoji's gecheckt kan worden wanneer deze voorkomt in een code. Later worden\n",
    "ook de emoji en regex modules geïmporteerd om de get_emoji functie te definiëren en te laten werken. \n",
    "'''"
   ]
  },
  {
   "cell_type": "code",
   "execution_count": 12,
   "id": "d5a42135",
   "metadata": {},
   "outputs": [
    {
     "name": "stdout",
     "output_type": "stream",
     "text": [
      "Requirement already satisfied: emoji in /Users/gijs/opt/anaconda3/lib/python3.8/site-packages (1.6.1)\r\n"
     ]
    }
   ],
   "source": [
    "!pip install emoji                                          #emoji module instaleren om daar mee te werken"
   ]
  },
  {
   "cell_type": "code",
   "execution_count": 13,
   "id": "c21b7024",
   "metadata": {},
   "outputs": [],
   "source": [
    "filename = \"../Data/emoji_valence.csv\"                     #csv file met polarity van emoji's gedownload van github\n",
    "with open(filename, \"r\") as csvfile:                       #deze lijst aangepast aan de hand van een aanal emoji's en geopend als list of dicts\n",
    "    reader = csv.DictReader(csvfile, delimiter=';')    \n",
    "    emoji_valence_dict = list(reader)   "
   ]
  },
  {
   "cell_type": "code",
   "execution_count": 14,
   "id": "f54bdd35",
   "metadata": {},
   "outputs": [
    {
     "name": "stdout",
     "output_type": "stream",
     "text": [
      "[{'\\ufeffEmoji': '👿', 'Name(s)': 'imp', 'Polarity': '-4'}, {'\\ufeffEmoji': '🖕', 'Name(s)': 'middle_finger; fu', 'Polarity': '-4'}, {'\\ufeffEmoji': '😾', 'Name(s)': 'pouting_cat', 'Polarity': '-4'}, {'\\ufeffEmoji': '😡', 'Name(s)': 'rage; pout', 'Polarity': '-4'}, {'\\ufeffEmoji': '😠', 'Name(s)': 'angry', 'Polarity': '-3'}]\n"
     ]
    }
   ],
   "source": [
    "print(emoji_valence_dict[:5])"
   ]
  },
  {
   "cell_type": "code",
   "execution_count": 15,
   "id": "721158e8",
   "metadata": {},
   "outputs": [
    {
     "name": "stdout",
     "output_type": "stream",
     "text": [
      "['👿', '🖕', '😾', '😡', '😠', '😧', '💔', '💩', '😱', '🙀', '😈', '😭', '😟', '👎', '😰', '😖', '😕', '😢', '😿', '😞', '🤕', '😨', '😳', '☹️', '😬', '🤥', '🤢', '😮', '😣', '💀', '☠️', '🤧', '😫', '😒', '😩', '😥', '😵', '🤒', '👊', '😦', '👻', '😯', '😷', '🤓', '😔', '🙄', '🙁', '😜', '😓', '🤔', '🤐', '🤡', '😐', '😴']\n"
     ]
    }
   ],
   "source": [
    "negative_emoji_list = []                                     #een aparte lijst aanmaken om alle negatief geladen emoji's in te kunnen stoppen\n",
    "for emoji in emoji_valence_dict:                             #voor elke emoji in de csv file met de polariteit van emoji's\n",
    "    if int(emoji['Polarity']) < 0:                           #kijken of die emoji negatief geladen is, dus polarity lager dan 0\n",
    "        negative_emoji_list.append(emoji['\\ufeffEmoji'])     #als dit het geval is deze emoji toevoegen aan de lijst voor negatief geladen emoji's\n",
    "    else:\n",
    "        continue                                             #als de polarity groter of gelijk is aan 0 dan door naar de volgende emoji in de csv file\n",
    "        \n",
    "print(negative_emoji_list)"
   ]
  },
  {
   "cell_type": "code",
   "execution_count": null,
   "id": "16c816f5",
   "metadata": {},
   "outputs": [],
   "source": [
    "    "
   ]
  },
  {
   "cell_type": "code",
   "execution_count": 16,
   "id": "01ca02b9",
   "metadata": {},
   "outputs": [],
   "source": [
    "import emoji                                               #modules importeren om de \"get_emoji\" functie te kunnen definiëren\n",
    "import regex"
   ]
  },
  {
   "cell_type": "code",
   "execution_count": 17,
   "id": "5cff1919",
   "metadata": {},
   "outputs": [],
   "source": [
    "def get_emoji(text):             \n",
    "    \"Get a list of emoji from a text.\"\n",
    "    all_emoji = []               \n",
    "    data = regex.findall(r'\\X', text)                     \n",
    "    for word in data:\n",
    "        if emoji.is_emoji(word):                         #voor elke woord in de tekst wordt gekeken of een emoji voorkomt\n",
    "            all_emoji.append(word)                       #wanneer emoji aanwezig wordt deze toegevoegd aan een lijst genaamd 'all_emoji'\n",
    "    return all_emoji                                     #na het uitvoeren van de functie wordt de lijst met emoji's gereturned om verder mee te kunnen werken in vervolgcode"
   ]
  },
  {
   "cell_type": "code",
   "execution_count": null,
   "id": "ea98a52a",
   "metadata": {},
   "outputs": [],
   "source": []
  },
  {
   "cell_type": "code",
   "execution_count": 18,
   "id": "cf5eed44",
   "metadata": {},
   "outputs": [
    {
     "name": "stdout",
     "output_type": "stream",
     "text": [
      "{'Goeie wissels ook 😒', '😡😡', '😢', 'Die tweede helft sloeg echt helemaal nergens op😳Vitesse is kampioen tijd rekken🤮', 'Vitesse🤡🤡', 'Ik snap dessers wel met doorspelen en de scheids😮😮', '😮', 'Maak die kansen nou eens af😩', '😢😢😢', 'Vitesse meest zielige club van de Eredivisie, ongelooflijk zeg 🤡', 'Dessers dessers dessers … wat ben je allemaal aan het doen man. 😮', 'Straftraining!!! Het moet is een keertje klaar zijn dat als we kunnen inlopen, het vertikken om de 3 punten binnen te slepen. Want dat is 9 van de 10 keer het geval 😡😡', '😢 En nu weer doorrrrrr!', '😬🙄😐', '😢😢😢😢', 'Vitesse wat en schijt ploeg, Bazoer🤡🤡🤡🤡🤡🤡', 'Op naar meer nederlagen! 💩💩💩', '🤡🤡🤡', '😐', 'Nooit meer laten fluiten die jood!🤥🤥', 'Vitesse 🤡🤡', 'Feijenoord kan niet beter.Hetzelfde als vorig seizoen is het.😢 Kut.', 'Winnen van psv en THUIS gelijk spelen tegen RKC😢 typerend weer 🤓 hoop dat arne voorlopig een paar spelers ff niet meer opstel! Wat een aanfluiting', '😔', 'Report My Team 🤓', '😢👏👏👏👏', 'Ali reza 😔', '😢 was gewoon niet goed. En dan Higler ook nog als scheids🤦🏻 Maar, eerlijk is eerlijk: Utrecht was gewoon beter. Niks aan te doen. Snel vergeten deze wedstrijd en op 12 september weer dr’an!💪🏼', 'Idd😢', 'Vitesse🤡', 'Cookk cookkk 😢'}\n"
     ]
    }
   ],
   "source": [
    "comment_with_negative_emoji_ng = []                                  #lijst aanmaken voor negatieve comments gedetecteerd aan de hand van emoji\n",
    "for item in csv_data_niet_gewonnen:                                  #voor elke dict in de list of dicts van niet gewonnen wedstrijden\n",
    "    emoji_in_comment = get_emoji(item['Comment'])                    #worden de emoji's uit de coments gehaald en in een lijst gestopt\n",
    "    for i in emoji_in_comment:                                       #voor elke emoji die terug komt uit de get_emoji functie \n",
    "        if i in negative_emoji_list:                                 #kijken of die emoji aanwezig is in de lijst van negatief geladen emoji's\n",
    "            comment_with_negative_emoji_ng.append(item['Comment'])   #de gehele comment met negatieve emoji's toevoegen aan een lijst \n",
    "        else:\n",
    "            continue                                                 #wanneer de emoji niet in de lijst voorkomt van negatieve emoji's, door naar de volgende\n",
    "\n",
    "comment_with_negative_emoji_ng_set = set(comment_with_negative_emoji_ng) #van de lijst met negatieve comments gedetecteerd aan de hand van emoji een set maken om dubbele eruit te halen (emoji's worden vaker getypt in een comment)\n",
    "print(comment_with_negative_emoji_ng_set)"
   ]
  },
  {
   "cell_type": "code",
   "execution_count": 19,
   "id": "3c4570d3",
   "metadata": {},
   "outputs": [
    {
     "name": "stdout",
     "output_type": "stream",
     "text": [
      "{'Feyenoord supporter zijn is aardig slecht voor je hart af en toe 😫❤️🤍', '@renske_8888 😡😡', 'Nuuul 😒', '@isis.vdk hartpijn, en in de laatste minuut nog ook😓💔', '😢😢😢', '@jay_boll_ 😂😢', 'Jaja allemaal hypocriete fans nu maar eerst dessers helemaal afbreken🤡🤡🤡🤡'}\n"
     ]
    }
   ],
   "source": [
    "comment_with_negative_emoji_g = []                                   #lijst aanmaken voor negatieve comments gedetecteerd aan de hand van emoji\n",
    "for item in csv_data_gewonnen:                                       #voor elke dict in de list of dicts van gewonnen wedstrijden\n",
    "    emoji_in_comment = get_emoji(item['Comment'])                    #worden de emoji's uit de coments gehaald en in een lijst gestopt\n",
    "    for i in emoji_in_comment:                                       #voor elke emoji die terug komt uit de get_emoji functie \n",
    "        if i in negative_emoji_list:                                 #kijken of die emoji aanwezig is in de lijst van negatief geladen emoji's\n",
    "            comment_with_negative_emoji_g.append(item['Comment'])    #de gehele comment met negatieve emoji's toevoegen aan een lijst \n",
    "        else:\n",
    "            continue                                                 #wanneer de emoji niet in de lijst voorkomt van negatieve emoji's, door naar de volgende\n",
    "\n",
    "comment_with_negative_emoji_g_set = set(comment_with_negative_emoji_g) #van de lijst met negatieve comments gedetecteerd aan de hand van emoji een set maken om dubbele eruit te halen (emoji's worden vaker getypt in een comment)\n",
    "print(comment_with_negative_emoji_g_set)"
   ]
  },
  {
   "cell_type": "code",
   "execution_count": 20,
   "id": "a6ef1fb5",
   "metadata": {},
   "outputs": [
    {
     "name": "stdout",
     "output_type": "stream",
     "text": [
      "{'Schaam je kapot , tegen RKC', '😢', 'Je zal nooit echt meedoen als je dit soort wedstrijden speelt', 'Verloren van een hoop schilders en schoenenmakers als bijbaan voetballer', 'wat een antivoetbal, feyenoord speelde slecht maar god nog nooit heb ik een ploeg zo veel zien tijdrekken. wat een antivoetbal dat vitesse', '😮', 'Maak die kansen nou eens af😩', 'Heel zielig clubje dat Vitesse', 'Jammer jongens, hoofd omhoog en op naar de volgende match👏👏', 'Ik snap er niks meer van wat Vitesse liet zien was zeker geen voetbal! Krankzinnig!', 'Vitesse meest zielige club van de Eredivisie, ongelooflijk zeg 🤡', 'Zelfs vrouwen voetbal is intressanter dan dit schandalig!', 'Domme persoonlijke fouten maar wat een ongelooflijk eng anti voetbal dat Vitesse zeg 🤮', 'Tegen NEC verloren we al bijna en nu krijg je echt de deksel op de neus tegen een degradatiekandidaat. Met dit voetbal ga je geen top 3 eindigen', 'Was niet om over naar huis te schrijven! Maarja zware week achter de rug. Toch had je aan het langste eind motten trekken! Schandalige vertoning van Vitesse ook trouwens laatste fase….', 'Schandalig dit', '1 ding Schandalig!', '😢😢😢😢', 'Dit is een combinatie van dunne selectie en ietwat vermoeidheid denk ik', 'Schande voor het Nederlandse voetbal hoe Vitesse de boel belachelijk vertraagde', 'Wat is die jahanbaksh slecht', 'Vitesse wat en schijt ploeg, Bazoer🤡🤡🤡🤡🤡🤡', 'Since wnr kun je winnen met gwn alleen op de grond liggen en een scheids die denkt van laat k maar gwn fluiten', 'Geen ijzersterke wedstrijd maar totaal 65 minuten gevoetbald deze wedstrijd', '🤡🤡🤡', 'Nooit meer laten fluiten die jood!🤥🤥', 'Feijenoord kan niet beter.Hetzelfde als vorig seizoen is het.😢 Kut.', 'Schaam je dood!!!!', '😢👏👏👏👏', 'Ali reza 😔', 'Slecht gespeeld maar wat een grafploeg is dat vitesse.  En een scheids die geen controle heeft een geen beslissingen durft te nemen', 'Als we ff redelijk kijken weten we allemaal dat ze echt moker slecht speelden maarja', 'Vitesse🤡', 'Vitesse trieste club', 'Ik Begin mijn vertrouwen in feyenoord langzamerhand kwijt te raken', 'Schaam je dood', 'Goeie wissels ook 😒', '😡😡', 'Die tweede helft sloeg echt helemaal nergens op😳Vitesse is kampioen tijd rekken🤮', 'Enorm jammer, maar tegen dit soort ploegen is niet te voetballen. Vitesse uit is sowieso lastig, dus dit is echt niet een schande.', 'Tyfus Vitesse, hebben 49 min over heel de wedstrijd gezien voor elkaar gekregen om het spel neerleggen… tyfus honden.', 'Schaam je kapot', 'Weer terug bij stap 1, zat er al op te wachten dat dit soort zooi ging gebeuren dit seizoen', 'Vitesse🤡🤡', 'Hoe de factuur is er na die 10 min maar 2 min bij gekomen', 'Ik snap dessers wel met doorspelen en de scheids😮😮', 'Triest team dat Vitesse', '😢😢😢', 'Vitesse is fk zielig', 'Vergeten en door!Dood moe van donderdag en het reizen.Kop omhoog en door knallen', 'Dessers dessers dessers … wat ben je allemaal aan het doen man. 😮', 'Weer ouderwets Feyenoord gezien !', 'Straftraining!!! Het moet is een keertje klaar zijn dat als we kunnen inlopen, het vertikken om de 3 punten binnen te slepen. Want dat is 9 van de 10 keer het geval 😡😡', 'Tering domme blunders van Senesi en Geertruida die onder de bal duikt man man. Drama', 'Jammer had nog wel 3 minuten door mogen spelen', '😢 En nu weer doorrrrrr!', '😬🙄😐', 'Zwaar onverdiend.... heel vies spel van rkc', 'Wat is die Dessers slecht zeg. Niet normaal', 'Wat is die vent van de rode kaart een naar mannetje, gadverdamme zeg', 'die buitink blijft 3 min in het veld staan en die gozer fluit meteen af', 'Jammer, maar die Higler wat een sukkel', 'Wat een schande is dat Vitesse', 'Op naar meer nederlagen! 💩💩💩', 'In t spel trappen van vitesse! Niet wisselen op t laatst! Wat een wanprestatie', '2e helft beter boys! Er zijn pas 49 min gespeeld! Alles is nog mogelijk.', '😐', 'Vitesse 🤡🤡', 'Winnen van psv en THUIS gelijk spelen tegen RKC😢 typerend weer 🤓 hoop dat arne voorlopig een paar spelers ff niet meer opstel! Wat een aanfluiting', '😔', 'Report My Team 🤓', 'Vitesse smerige club', 'Slecht pot jammer volgende x beter boys 💪', 'Dramatisch', 'Senesi wordt toch erg gemist', '😢 was gewoon niet goed. En dan Higler ook nog als scheids🤦🏻 Maar, eerlijk is eerlijk: Utrecht was gewoon beter. Niks aan te doen. Snel vergeten deze wedstrijd en op 12 september weer dr’an!💪🏼', 'Ongekend slecht', 'Wat een trieste club dat vitesse', 'Waardeloze instelling vandaag, scheids ook compleet triest, heeft de spelers en wedstrijd niet onder controle en moet eigenlijk gewoon 20 minuten minimaal blessuretijd geven.. slot vergeet ook telkens dat hij 5 x mag wisselen.. sinisterra en jahanbakhsh waren pure stront en blijven gewoon staan', 'Idd😢', 'Cookk cookkk 😢', 'Wat was het slecht', 'Eigen tering schuld… malacia van mij part ff paar wedstrijden 🛋 dat laconieke gedoeAlireza ook 🛋Altijd als Feyenoord MOET aanhaken verneuken ze het weer🙃'}\n",
      "83\n"
     ]
    }
   ],
   "source": [
    "csv_data_niet_gewonnen_negatief_set = set(csv_data_niet_gewonnen_negatief)                                   #een set maken van de eerder gevonden negatieve comments uit niet gewonnen wedstrijden (sentiment analyse) om samen te kunnen voegen\n",
    "total_comments_negative_ng = comment_with_negative_emoji_ng_set.union(csv_data_niet_gewonnen_negatief_set)   #sets van de sentiment analyse en emoji analyse samenvoegen om totale negatieve comments te krijgen (sets om dubbele comments eruit te filteren)\n",
    "print(total_comments_negative_ng)\n",
    "totaal_hvl_neg_comments_ng = len(total_comments_negative_ng)                                                 #met de len() functie de hoeveelheid negatieve comments bereken en opslaan in een variabele voor latere analyse\n",
    "print(totaal_hvl_neg_comments_ng)"
   ]
  },
  {
   "cell_type": "code",
   "execution_count": 21,
   "id": "1d848b7c",
   "metadata": {},
   "outputs": [
    {
     "name": "stdout",
     "output_type": "stream",
     "text": [
      "{'Veel te krap steeds kom op nou', 'Wijnval had wel rood mogen hebben', '@renske_8888 😡😡', '@isis.vdk hartpijn, en in de laatste minuut nog ook😓💔', 'Waanzinnig', 'Niet gelijk denken lands kampioen he', '😢😢😢', 'Zielige kk club', 'Jaja allemaal hypocriete fans nu maar eerst dessers helemaal afbreken🤡🤡🤡🤡', 'OP NAAR MEER!🔥', 'Feyenoord supporter zijn is aardig slecht voor je hart af en toe 😫❤️🤍', '@mathijsgoris dood lijk hou je smoel', 'Nuuul 😒', 'Rare wedstrijd, maar 3 punten', '@matthijs_bak als til zijn contract ooit verloopt en hij dan zegt van ik vertrek naar feyenoord kunnen we hem binnen halen denk als til mag kiezen dat die feyenoord leuker vind', '@jochemdej heb de documontaire gezien op disney plus feyenoord zit in zwaar weer financieel maar dat wisten we eigenlijk al jaren', 'Verdiend👏👏 en die Blom mag wel naar de oogarts...manman', '@jay_boll_ 😂😢', '@simonhoogenraad teleurstellend dit', 'weer 10 jaar ouder, maar die 3 punten gaan weer lekker mee naar rdam 🔥🔥'}\n",
      "20\n"
     ]
    }
   ],
   "source": [
    "csv_data_gewonnen_negatief_set = set(csv_data_gewonnen_negatief)                                      #een set maken van de eerder gevonden negatieve comments uit niet gewonnen wedstrijden (sentiment analyse) om samen te kunnen voegen\n",
    "total_comments_negative_g = comment_with_negative_emoji_g_set.union(csv_data_gewonnen_negatief_set)   #sets van de sentiment analyse en emoji analyse samenvoegen om totale negatieve comments te krijgen (sets om dubbele comments eruit te filteren)\n",
    "print(total_comments_negative_g)\n",
    "totaal_hvl_neg_comments_g = len(total_comments_negative_g)                                            #met de len() functie de hoeveelheid negatieve comments bereken en opslaan in een variabele voor latere analyse\n",
    "print(totaal_hvl_neg_comments_g)"
   ]
  },
  {
   "cell_type": "code",
   "execution_count": 22,
   "id": "07353aa1",
   "metadata": {},
   "outputs": [
    {
     "name": "stdout",
     "output_type": "stream",
     "text": [
      "83\n",
      "20\n"
     ]
    }
   ],
   "source": [
    "#hoeveelheid negatieve comments niet gewonnen wedstrijden\n",
    "print(totaal_hvl_neg_comments_ng)\n",
    "#hoeveelheid negatieve comments gewonnen wedstrijden\n",
    "print(totaal_hvl_neg_comments_g)"
   ]
  },
  {
   "cell_type": "code",
   "execution_count": 23,
   "id": "33d9d18b",
   "metadata": {},
   "outputs": [
    {
     "data": {
      "text/plain": [
       "'\\nDe matplotlib.pyplot module importeren zodat er visualizaties gemaakt kunnen worden. De verzamelde hoeveelheid \\nnegatieve comments zijn dan met elkaar vergeleken per gewonnen of niet gewonnen wedstrijd en zichtbaar gemaakt \\nin een barchart. In totaal waren er per type resultaat 300 comments aanwezig in de verschillende csv files. \\nBij de niet gewonnen wedstrijden waren er uiteindelijk 83 negatuieve comments gedetecteerd door onze code. Voor\\nde gewonnen wedstrijden waren er 20 negatieve comments gedetecteerd door onze code in de data.\\n'"
      ]
     },
     "execution_count": 23,
     "metadata": {},
     "output_type": "execute_result"
    }
   ],
   "source": [
    "'''\n",
    "De matplotlib.pyplot module importeren zodat er visualizaties gemaakt kunnen worden. De verzamelde hoeveelheid \n",
    "negatieve comments zijn dan met elkaar vergeleken per gewonnen of niet gewonnen wedstrijd en zichtbaar gemaakt \n",
    "in een barchart. In totaal waren er per type resultaat 300 comments aanwezig in de verschillende csv files. \n",
    "Bij de niet gewonnen wedstrijden waren er uiteindelijk 83 negatuieve comments gedetecteerd door onze code. Voor\n",
    "de gewonnen wedstrijden waren er 20 negatieve comments gedetecteerd door onze code in de data.\n",
    "'''"
   ]
  },
  {
   "cell_type": "code",
   "execution_count": 24,
   "id": "161f8bb4",
   "metadata": {},
   "outputs": [],
   "source": [
    "%matplotlib inline\n",
    "import matplotlib.pyplot as plt                          #matplotlib module importeren om vizualisatie mee te kunnen maken"
   ]
  },
  {
   "cell_type": "code",
   "execution_count": 25,
   "id": "ee567726",
   "metadata": {},
   "outputs": [],
   "source": [
    "import seaborn as sns\n",
    "sns.set_style(\"whitegrid\")                               #standaard outline van de plots aanpassen naar een \"whitegrid\" zodat het er al iets fraaier uitziet"
   ]
  },
  {
   "cell_type": "code",
   "execution_count": 26,
   "id": "33554643",
   "metadata": {},
   "outputs": [
    {
     "name": "stdout",
     "output_type": "stream",
     "text": [
      "{'Resultaat wedstrijden': ['Niet gewonnen wedstrijden', 'Gewonnen wedstrijden'], 'Hoeveelheid negatieve comments': [83, 20]}\n"
     ]
    }
   ],
   "source": [
    "hvl_neg_comm_dict = {                                    #een dict maken van onze resultaten zpdat daar een barchart van gemaakt kan worden\n",
    "    'Resultaat wedstrijden' : ['Niet gewonnen wedstrijden', 'Gewonnen wedstrijden'], \n",
    "    'Hoeveelheid negatieve comments' : [totaal_hvl_neg_comments_ng, totaal_hvl_neg_comments_g]\n",
    "}\n",
    "print(hvl_neg_comm_dict)"
   ]
  },
  {
   "cell_type": "code",
   "execution_count": 27,
   "id": "37ccfb14",
   "metadata": {},
   "outputs": [],
   "source": [
    "import pandas as pd                                     #pandas module importeren om via deze weg een barchart te kunnen maken waarbij kleur veranderen en labels toevoegen simpeler is dan bij numpy"
   ]
  },
  {
   "cell_type": "code",
   "execution_count": 28,
   "id": "af8d4631",
   "metadata": {},
   "outputs": [
    {
     "data": {
      "image/png": "[encoded data removed]",
      "text/plain": [
       "<Figure size 432x288 with 1 Axes>"
      ]
     },
     "metadata": {},
     "output_type": "display_data"
    }
   ],
   "source": [
    "df = pd.DataFrame.from_dict(hvl_neg_comm_dict)                                                        #Dataframe maken voor in de pandas module vanuit de gecreeeërde dictionary\n",
    "ax = sns.barplot(x='Resultaat wedstrijden',y='Hoeveelheid negatieve comments',color='red',data=df)    #een barplot maken met op de x-as het resultaat van de wedstrijden en op de y-as de hoeveelheid negatieve comments onder de posts met de standaard kleur rood voor de bars in het figuur. \n",
    "ax.set_title('Hoeveelheid negatieve comments per niet gewonnen of gewonnen wedstrijd van Feyenoord')  #De plot een titel geven \n",
    "ax.set_ylabel('Hoeveelheid negatieve comments')                                                       #De y-as een label geven\n",
    "ax.set_xlabel('Resultaat wedstrijden')                                                                #De x-as een label geven\n",
    "ax.patches[1].set_facecolor('gray')                                                                   #De tweede bar in het figuur een andere kleur geven, namelijk de kleur grijs"
   ]
  },
  {
   "cell_type": "code",
   "execution_count": 32,
   "id": "22d72455",
   "metadata": {},
   "outputs": [
    {
     "name": "stdout",
     "output_type": "stream",
     "text": [
      "27.666666666666668\n",
      "6.666666666666667\n"
     ]
    }
   ],
   "source": [
    "percentage_neg_comments_ng = (totaal_hvl_neg_comments_ng / 300) * 100                #percentage berekenen van het aantal negatief geladen comments gedetecteerd door onze code ten opzichte van het totaal aantal comments (300) voor de niet gewonnen wedstrijden\n",
    "print(percentage_neg_comments_ng)\n",
    "\n",
    "percentage_neg_comments_g = (totaal_hvl_neg_comments_g / 300) * 100                  #percentage berekenen van het aantal negatief geladen comments gedetecteerd door onze code ten opzichte van het totaal aantal comments (300) voor de gewonnen wedstrijden\n",
    "print(percentage_neg_comments_g)"
   ]
  }
 ],
 "metadata": {
  "kernelspec": {
   "display_name": "Python 3",
   "language": "python",
   "name": "python3"
  },
  "language_info": {
   "codemirror_mode": {
    "name": "ipython",
    "version": 3
   },
   "file_extension": ".py",
   "mimetype": "text/x-python",
   "name": "python",
   "nbconvert_exporter": "python",
   "pygments_lexer": "ipython3",
   "version": "3.8.8"
  }
 },
 "nbformat": 4,
 "nbformat_minor": 5
}
